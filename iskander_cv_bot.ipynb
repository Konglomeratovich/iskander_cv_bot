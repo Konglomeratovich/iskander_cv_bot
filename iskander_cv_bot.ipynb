{
  "nbformat": 4,
  "nbformat_minor": 0,
  "metadata": {
    "colab": {
      "provenance": [],
      "authorship_tag": "ABX9TyMDEEErJOAtJhk9xiF55nW/",
      "include_colab_link": true
    },
    "kernelspec": {
      "name": "python3",
      "display_name": "Python 3"
    },
    "language_info": {
      "name": "python"
    }
  },
  "cells": [
    {
      "cell_type": "markdown",
      "metadata": {
        "id": "view-in-github",
        "colab_type": "text"
      },
      "source": [
        "<a href=\"https://colab.research.google.com/github/Konglomeratovich/iskander_cv_bot/blob/main/iskander_cv_bot.ipynb\" target=\"_parent\"><img src=\"https://colab.research.google.com/assets/colab-badge.svg\" alt=\"Open In Colab\"/></a>"
      ]
    },
    {
      "cell_type": "code",
      "execution_count": 1,
      "metadata": {
        "colab": {
          "base_uri": "https://localhost:8080/"
        },
        "collapsed": true,
        "id": "07pwNX4FreV4",
        "outputId": "2ce9ec68-5ce3-4bee-852b-3b1593bf55e9"
      },
      "outputs": [
        {
          "output_type": "stream",
          "name": "stdout",
          "text": [
            "Collecting pyTelegramBotAPI\n",
            "  Downloading pytelegrambotapi-4.25.0-py3-none-any.whl.metadata (48 kB)\n",
            "\u001b[?25l     \u001b[90m━━━━━━━━━━━━━━━━━━━━━━━━━━━━━━━━━━━━━━━━\u001b[0m \u001b[32m0.0/48.1 kB\u001b[0m \u001b[31m?\u001b[0m eta \u001b[36m-:--:--\u001b[0m\r\u001b[2K     \u001b[91m━━━━━━━━━━━━━━━━━━━━━━━━━━━━━━━━━━\u001b[0m\u001b[90m╺\u001b[0m\u001b[90m━━━━━\u001b[0m \u001b[32m41.0/48.1 kB\u001b[0m \u001b[31m65.2 MB/s\u001b[0m eta \u001b[36m0:00:01\u001b[0m\r\u001b[2K     \u001b[90m━━━━━━━━━━━━━━━━━━━━━━━━━━━━━━━━━━━━━━━━\u001b[0m \u001b[32m48.1/48.1 kB\u001b[0m \u001b[31m1.1 MB/s\u001b[0m eta \u001b[36m0:00:00\u001b[0m\n",
            "\u001b[?25hRequirement already satisfied: requests in /usr/local/lib/python3.10/dist-packages (from pyTelegramBotAPI) (2.32.3)\n",
            "Requirement already satisfied: charset-normalizer<4,>=2 in /usr/local/lib/python3.10/dist-packages (from requests->pyTelegramBotAPI) (3.4.0)\n",
            "Requirement already satisfied: idna<4,>=2.5 in /usr/local/lib/python3.10/dist-packages (from requests->pyTelegramBotAPI) (3.10)\n",
            "Requirement already satisfied: urllib3<3,>=1.21.1 in /usr/local/lib/python3.10/dist-packages (from requests->pyTelegramBotAPI) (2.2.3)\n",
            "Requirement already satisfied: certifi>=2017.4.17 in /usr/local/lib/python3.10/dist-packages (from requests->pyTelegramBotAPI) (2024.12.14)\n",
            "Downloading pytelegrambotapi-4.25.0-py3-none-any.whl (269 kB)\n",
            "\u001b[2K   \u001b[90m━━━━━━━━━━━━━━━━━━━━━━━━━━━━━━━━━━━━━━━━\u001b[0m \u001b[32m269.2/269.2 kB\u001b[0m \u001b[31m13.8 MB/s\u001b[0m eta \u001b[36m0:00:00\u001b[0m\n",
            "\u001b[?25hInstalling collected packages: pyTelegramBotAPI\n",
            "Successfully installed pyTelegramBotAPI-4.25.0\n"
          ]
        }
      ],
      "source": [
        "pip install pyTelegramBotAPI"
      ]
    },
    {
      "cell_type": "code",
      "source": [
        "#библиотеки, которые загружаем из вне\n",
        "import telebot\n",
        "TOKEN = '7757847097:AAEH76XF4a9VWgyCHvtycpMtdWs-iIeU5Nc'\n",
        "\n",
        "from telebot import types\n",
        "\n",
        "bot = telebot.TeleBot(TOKEN)\n",
        "\n",
        "@bot.message_handler(commands=['start'])\n",
        "def welcome(message):\n",
        "\tsti = open('welcome.webp', 'rb')\n",
        "\tbot.send_sticker(message.chat.id, sti)\n",
        "\n",
        "\t#клавиатура\n",
        "\tmarkup = types.ReplyKeyboardMarkup(resize_keyboard=True)\n",
        "\titem1 = types.KeyboardButton(\"🧡 Мой репозиторий\")\n",
        "\titem2 = types.KeyboardButton(\"😋 Написать мне в личку\")\n",
        "\n",
        "\tmarkup.add(item1, item2)\n",
        "\n",
        "\tbot.send_message(message.chat.id, \"Привет тебе от краба, {0.first_name}!\".format(message.from_user, bot.get_me()),\n",
        "\t\tparse_mode='html', reply_markup=markup)\n",
        "\n",
        "#назначаем действие для клавиатуры\n",
        "@bot.message_handler(content_types=['text'])\n",
        "def lalala(message):\n",
        "\tif message.chat.type == 'private':\n",
        "\t\tif message.text == '🧡 Мой репозиторий':\n",
        "\t\t\tbot.send_message(message.chat.id, 'https://github.com/Konglomeratovich')\n",
        "\t\telif message.text == '😋 Написать мне в личку':\n",
        "\t\t\tbot.send_message(message.chat.id, 'https://t.me/Konglomeratovich')\n",
        "\t\telse:\n",
        "\t\t\tbot.send_message(message.chat.id, 'Не знаю что ответить😢')\n",
        "\n",
        "\n",
        "bot.polling(none_stop=True)\n",
        "\n",
        "\n",
        "\n",
        "\n",
        "\n",
        "\n",
        "#https://core.telegram.org/bots/api#available-methods\n"
      ],
      "metadata": {
        "id": "8Wk10evSueGz"
      },
      "execution_count": null,
      "outputs": []
    }
  ]
}